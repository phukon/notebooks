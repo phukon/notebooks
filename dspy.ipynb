{
  "nbformat": 4,
  "nbformat_minor": 0,
  "metadata": {
    "colab": {
      "provenance": [],
      "authorship_tag": "ABX9TyOCkMe4mtZMejxgNnwY5E60",
      "include_colab_link": true
    },
    "kernelspec": {
      "name": "python3",
      "display_name": "Python 3"
    },
    "language_info": {
      "name": "python"
    }
  },
  "cells": [
    {
      "cell_type": "markdown",
      "metadata": {
        "id": "view-in-github",
        "colab_type": "text"
      },
      "source": [
        "<a href=\"https://colab.research.google.com/github/phukon/notebooks/blob/main/dspy.ipynb\" target=\"_parent\"><img src=\"https://colab.research.google.com/assets/colab-badge.svg\" alt=\"Open In Colab\"/></a>"
      ]
    },
    {
      "cell_type": "code",
      "execution_count": null,
      "metadata": {
        "collapsed": true,
        "id": "zE4Q4mhyiO30"
      },
      "outputs": [],
      "source": [
        "!pip install dspy\n",
        "!pip install pydantic"
      ]
    },
    {
      "cell_type": "markdown",
      "source": [
        "# Simple prompt and respose"
      ],
      "metadata": {
        "id": "5TbDU6hJiYhK"
      }
    },
    {
      "cell_type": "code",
      "source": [
        "import dspy\n",
        "turbo = dspy.OpenAI(model='gpt-3.5-turbo-0125', api_key='xxx')\n",
        "dspy.settings.configure(lm=turbo)"
      ],
      "metadata": {
        "id": "kV1-Jv-dio74"
      },
      "execution_count": 7,
      "outputs": []
    },
    {
      "cell_type": "code",
      "source": [
        "predict = dspy.Predict(\"question -> answer\")\n",
        "prediction = predict(question=\"Whats the capital of Arunachal Pradesh?\")\n",
        "prediction.answer"
      ],
      "metadata": {
        "colab": {
          "base_uri": "https://localhost:8080/",
          "height": 36
        },
        "id": "p-_JI3nGjf5n",
        "outputId": "ef46d354-e1b2-48be-e008-12fc42266ddd"
      },
      "execution_count": 8,
      "outputs": [
        {
          "output_type": "execute_result",
          "data": {
            "text/plain": [
              "'Itanagar'"
            ],
            "application/vnd.google.colaboratory.intrinsic+json": {
              "type": "string"
            }
          },
          "metadata": {},
          "execution_count": 8
        }
      ]
    },
    {
      "cell_type": "code",
      "source": [
        "turbo.inspect_history(1)"
      ],
      "metadata": {
        "colab": {
          "base_uri": "https://localhost:8080/"
        },
        "collapsed": true,
        "id": "MG8QNq-ymXix",
        "outputId": "80114a71-b429-44d7-d0c9-574e0feaa41e"
      },
      "execution_count": 9,
      "outputs": [
        {
          "output_type": "stream",
          "name": "stdout",
          "text": [
            "\n",
            "\n",
            "\n",
            "\n",
            "Given the fields `question`, produce the fields `answer`.\n",
            "\n",
            "---\n",
            "\n",
            "Follow the following format.\n",
            "\n",
            "Question: ${question}\n",
            "Answer: ${answer}\n",
            "\n",
            "---\n",
            "\n",
            "Question: Whats the capital of Arunachal Pradesh?\n",
            "Answer:\u001b[32m Itanagar\u001b[0m\n",
            "\n",
            "\n",
            "\n"
          ]
        }
      ]
    },
    {
      "cell_type": "markdown",
      "source": [
        "### Signatures"
      ],
      "metadata": {
        "id": "QyF0CDPXmu3J"
      }
    },
    {
      "cell_type": "code",
      "source": [
        "class QA(dspy.Signature):\n",
        "  lol = dspy.InputField() # i can rename it to whatever suits me\n",
        "  qwe = dspy.OutputField()\n",
        "\n",
        "predict = dspy.Predict(QA) # Instead of dspy.Predict(\"question -> answer\")"
      ],
      "metadata": {
        "id": "0uJSCIJ9myMA"
      },
      "execution_count": 10,
      "outputs": []
    },
    {
      "cell_type": "code",
      "source": [
        "prediction = predict(lol=\"What was the name of the first moon landing mission by NASA?\")\n",
        "print(prediction.qwe)"
      ],
      "metadata": {
        "colab": {
          "base_uri": "https://localhost:8080/"
        },
        "id": "f2M8mn-knVxH",
        "outputId": "68c6ef3f-064c-4103-b203-3af1f95633c7"
      },
      "execution_count": 11,
      "outputs": [
        {
          "output_type": "stream",
          "name": "stdout",
          "text": [
            "Apollo 11\n"
          ]
        }
      ]
    },
    {
      "cell_type": "markdown",
      "source": [
        "### With description"
      ],
      "metadata": {
        "id": "MpznIt3eoBfi"
      }
    },
    {
      "cell_type": "code",
      "source": [
        "class QA2(dspy.Signature):\n",
        "  \"\"\"Given the question, generate the answer\"\"\"\n",
        "  question = dspy.InputField(desc=\"User's question\")\n",
        "  answer = dspy.OutputField(desc=\"in JSON format\")\n",
        "\n",
        "predict = dspy.Predict(QA2)\n",
        "prediction = predict(question=\"What is the date of India's independence in UTC?\")\n",
        "print(prediction.answer)"
      ],
      "metadata": {
        "colab": {
          "base_uri": "https://localhost:8080/"
        },
        "id": "IEuhGLseoAkq",
        "outputId": "b28ebb5e-21e4-4710-d1c0-15d670595550"
      },
      "execution_count": 12,
      "outputs": [
        {
          "output_type": "stream",
          "name": "stdout",
          "text": [
            "{\n",
            "    \"date\": \"1947-08-15\",\n",
            "    \"time\": \"00:00:00\",\n",
            "    \"timezone\": \"UTC\"\n",
            "}\n"
          ]
        }
      ]
    },
    {
      "cell_type": "code",
      "source": [
        "turbo.inspect_history(1)"
      ],
      "metadata": {
        "colab": {
          "base_uri": "https://localhost:8080/"
        },
        "id": "GxBYGeHLT6g_",
        "outputId": "78edfd5b-88fd-4ca9-ef8f-22a96132e823"
      },
      "execution_count": 13,
      "outputs": [
        {
          "output_type": "stream",
          "name": "stdout",
          "text": [
            "\n",
            "\n",
            "\n",
            "\n",
            "Given the question, generate the answer\n",
            "\n",
            "---\n",
            "\n",
            "Follow the following format.\n",
            "\n",
            "Question: User's question\n",
            "Answer: in JSON format\n",
            "\n",
            "---\n",
            "\n",
            "Question: What is the date of India's independence in UTC?\n",
            "Answer:\u001b[32m {\n",
            "    \"date\": \"1947-08-15\",\n",
            "    \"time\": \"00:00:00\",\n",
            "    \"timezone\": \"UTC\"\n",
            "}\u001b[0m\n",
            "\n",
            "\n",
            "\n"
          ]
        }
      ]
    },
    {
      "cell_type": "markdown",
      "source": [
        "# CoT"
      ],
      "metadata": {
        "id": "D4aw5-sdVxuM"
      }
    },
    {
      "cell_type": "code",
      "source": [
        "multiStepQuestion = \"what is the capital of the birth state of the person who provided the assist to Mario Gotze's goal in football world cup finals in 2014?\"\n",
        "\n",
        "class QuestionAnswer(dspy.Signature):\n",
        "  question = dspy.InputField()\n",
        "  answer = dspy.OutputField()\n",
        "\n",
        "generateAnswer = dspy.ChainOfThought(QuestionAnswer)\n",
        "prediction = generateAnswer(question=multiStepQuestion)\n",
        "print(prediction) # gives wrong answer"
      ],
      "metadata": {
        "colab": {
          "base_uri": "https://localhost:8080/"
        },
        "id": "kbXFSilMVzkx",
        "outputId": "5d439a59-5065-4f63-abef-fd41de34387d"
      },
      "execution_count": 14,
      "outputs": [
        {
          "output_type": "stream",
          "name": "stdout",
          "text": [
            "Prediction(\n",
            "    rationale=\"produce the answer. We know that Mario Gotze scored the winning goal for Germany in the 2014 World Cup finals. The person who provided the assist to him was Andre Schurrle. Andre Schurrle was born in Ludwigshafen, Germany. Therefore, the capital of the birth state of the person who provided the assist to Mario Gotze's goal in the 2014 World Cup finals is Stuttgart.\",\n",
            "    answer='Stuttgart'\n",
            ")\n"
          ]
        }
      ]
    },
    {
      "cell_type": "markdown",
      "source": [
        "DSPY thingies ---> modules, signatures"
      ],
      "metadata": {
        "id": "0ZynkAPaXjw4"
      }
    },
    {
      "cell_type": "markdown",
      "source": [
        "### Module"
      ],
      "metadata": {
        "id": "xKfJ1O0kgElp"
      }
    },
    {
      "cell_type": "code",
      "source": [
        "class DoubleChainOfThoughtModule(dspy.Module):\n",
        "  def __init__(self):\n",
        "    self.cot1 = dspy.ChainOfThought(\"question -> step_by_step_thought\")\n",
        "    self.cot2 = dspy.ChainOfThought(\"question, thought -> one_word_answer\")\n",
        "\n",
        "  def forward(self, question):\n",
        "    thought = self.cot1(question=question).step_by_step_thought\n",
        "    answer =  self.cot2(question=question, thought=thought).one_word_answer\n",
        "    return dspy.Prediction(thought=thought, answer=answer)"
      ],
      "metadata": {
        "id": "YhH5su04Xig6"
      },
      "execution_count": 15,
      "outputs": []
    },
    {
      "cell_type": "code",
      "source": [
        "doubleCot = DoubleChainOfThoughtModule()\n",
        "output = doubleCot(question=multiStepQuestion)\n",
        "print(output)"
      ],
      "metadata": {
        "colab": {
          "base_uri": "https://localhost:8080/"
        },
        "id": "7JAbjxUsfOMj",
        "outputId": "812d5602-022c-485c-fc62-1421ebac6d06"
      },
      "execution_count": 16,
      "outputs": [
        {
          "output_type": "stream",
          "name": "stdout",
          "text": [
            "Prediction(\n",
            "    thought=\"The player who provided the assist to Mario Gotze's goal in the 2014 World Cup finals was Andre Schurrle. Andre Schurrle was born in Ludwigshafen, Rhineland-Palatinate, Germany. Therefore, the capital of Rhineland-Palatinate is Mainz.\",\n",
            "    answer='Mainz'\n",
            ")\n"
          ]
        }
      ]
    },
    {
      "cell_type": "code",
      "source": [
        "turbo.inspect_history(2)"
      ],
      "metadata": {
        "colab": {
          "base_uri": "https://localhost:8080/"
        },
        "id": "OB3yhw3ClTax",
        "outputId": "27c6fb08-1761-4201-ebe3-b5509a09adef"
      },
      "execution_count": 17,
      "outputs": [
        {
          "output_type": "stream",
          "name": "stdout",
          "text": [
            "\n",
            "\n",
            "\n",
            "\n",
            "Given the fields `question`, produce the fields `step_by_step_thought`.\n",
            "\n",
            "---\n",
            "\n",
            "Follow the following format.\n",
            "\n",
            "Question: ${question}\n",
            "Reasoning: Let's think step by step in order to ${produce the step_by_step_thought}. We ...\n",
            "Step By Step Thought: ${step_by_step_thought}\n",
            "\n",
            "---\n",
            "\n",
            "Question: what is the capital of the birth state of the person who provided the assist to Mario Gotze's goal in football world cup finals in 2014?\n",
            "Reasoning: Let's think step by step in order to\u001b[32m find the capital of the birth state of the person who provided the assist to Mario Gotze's goal in the 2014 football world cup finals. We need to first identify the player who assisted Mario Gotze's goal in the 2014 World Cup finals and then determine their birth state.\n",
            "Step By Step Thought: The player who provided the assist to Mario Gotze's goal in the 2014 World Cup finals was Andre Schurrle. Andre Schurrle was born in Ludwigshafen, Rhineland-Palatinate, Germany. Therefore, the capital of Rhineland-Palatinate is Mainz.\u001b[0m\n",
            "\n",
            "\n",
            "\n",
            "\n",
            "\n",
            "\n",
            "\n",
            "Given the fields `question`, `thought`, produce the fields `one_word_answer`.\n",
            "\n",
            "---\n",
            "\n",
            "Follow the following format.\n",
            "\n",
            "Question: ${question}\n",
            "\n",
            "Thought: ${thought}\n",
            "\n",
            "Reasoning: Let's think step by step in order to ${produce the one_word_answer}. We ...\n",
            "\n",
            "One Word Answer: ${one_word_answer}\n",
            "\n",
            "---\n",
            "\n",
            "Question: what is the capital of the birth state of the person who provided the assist to Mario Gotze's goal in football world cup finals in 2014?\n",
            "\n",
            "Thought: The player who provided the assist to Mario Gotze's goal in the 2014 World Cup finals was Andre Schurrle. Andre Schurrle was born in Ludwigshafen, Rhineland-Palatinate, Germany. Therefore, the capital of Rhineland-Palatinate is Mainz.\n",
            "\n",
            "Reasoning: Let's think step by step in order to\u001b[32m find the capital of Rhineland-Palatinate, the birth state of the person who provided the assist to Mario Gotze's goal in the 2014 World Cup finals.\n",
            "\n",
            "One Word Answer: Mainz\u001b[0m\n",
            "\n",
            "\n",
            "\n"
          ]
        }
      ]
    },
    {
      "cell_type": "markdown",
      "source": [
        "# Typed Predictors"
      ],
      "metadata": {
        "id": "-oytaS0vAae2"
      }
    },
    {
      "cell_type": "code",
      "source": [
        "from pydantic import BaseModel, Field\n",
        "\n",
        "class AnswerConfidence(BaseModel):\n",
        "  answer: str = Field(\"Answer in 1-5 words\")\n",
        "  confidence: float = Field(\"Your confidence between 0-1\")\n",
        "\n",
        "class QAWithConfidence(dspy.Signature):\n",
        "  \"\"\"Given user's question, answer it and also give your confidence value\"\"\"\n",
        "  question = dspy.InputField()\n",
        "  answer: AnswerConfidence = dspy.OutputField()\n",
        "\n",
        "predict = dspy.TypedChainOfThought(QAWithConfidence)\n"
      ],
      "metadata": {
        "id": "gbZboiS8AfJs"
      },
      "execution_count": 22,
      "outputs": []
    },
    {
      "cell_type": "code",
      "source": [
        "output = predict(question=multiStepQuestion)\n",
        "print(output.answer)\n",
        "print(type(output.answer.confidence))\n",
        "turbo.inspect_history(1)"
      ],
      "metadata": {
        "colab": {
          "base_uri": "https://localhost:8080/"
        },
        "id": "nquvIsVbCe6N",
        "outputId": "9cc98d07-8d1b-4b9f-99c1-3d9e182c0358"
      },
      "execution_count": 24,
      "outputs": [
        {
          "output_type": "stream",
          "name": "stdout",
          "text": [
            "answer='Rio de Janeiro' confidence=0.8\n",
            "<class 'float'>\n",
            "\n",
            "\n",
            "\n",
            "\n",
            "Given user's question, answer it and also give your confidence value\n",
            "\n",
            "---\n",
            "\n",
            "Follow the following format.\n",
            "\n",
            "Question: ${question}\n",
            "Reasoning: Let's think step by step in order to ${produce the answer}. We ...\n",
            "Answer: ${answer}. Respond with a single JSON object. JSON Schema: {\"properties\": {\"answer\": {\"default\": \"Answer in 1-5 words\", \"title\": \"Answer\", \"type\": \"string\"}, \"confidence\": {\"default\": \"Your confidence between 0-1\", \"title\": \"Confidence\", \"type\": \"number\"}}, \"title\": \"AnswerConfidence\", \"type\": \"object\"}\n",
            "\n",
            "---\n",
            "\n",
            "Question: what is the capital of the birth state of the person who provided the assist to Mario Gotze's goal in football world cup finals in 2014?\n",
            "Reasoning: Let's think step by step in order to\n",
            "Answer: Rio de Janeiro\n",
            "Confidence: 0.8\n",
            "Answer:\u001b[32m {\"answer\": \"Rio de Janeiro\", \"confidence\": 0.8}\u001b[0m\n",
            "\n",
            "\n",
            "\n"
          ]
        }
      ]
    },
    {
      "cell_type": "markdown",
      "source": [
        "## Typed Predictors, Advanced\n"
      ],
      "metadata": {
        "id": "N34eOwlsEX27"
      }
    },
    {
      "cell_type": "code",
      "source": [
        "class Answer(BaseModel):\n",
        "  country: str = Field()\n",
        "  year: int = Field()\n",
        "\n",
        "class QAList(dspy.Signature):\n",
        "  \"\"\"Given a user's question, answer with a JSON readable python list\"\"\"\n",
        "  question = dspy.InputField()\n",
        "  answer_list: list[Answer] = dspy.OutputField()\n",
        "\n",
        "question = \"Generate a list of countries and the year of FIFA world cup winners from 2002-present\"\n",
        "predict = dspy.TypedChainOfThought(QAList)"
      ],
      "metadata": {
        "id": "tIy5M1lUFYzD"
      },
      "execution_count": 27,
      "outputs": []
    },
    {
      "cell_type": "code",
      "source": [
        "answer = predict(question=question)\n",
        "print(answer)\n",
        "print(answer.answer_list)"
      ],
      "metadata": {
        "colab": {
          "base_uri": "https://localhost:8080/"
        },
        "id": "kjT3BOsvGJD8",
        "outputId": "e9864266-3e69-4ccc-f08e-d41575ccc2a9"
      },
      "execution_count": 28,
      "outputs": [
        {
          "output_type": "stream",
          "name": "stdout",
          "text": [
            "Prediction(\n",
            "    reasoning='produce the answer_list. We need to identify the countries that won the FIFA World Cup from 2002 to the present year and the corresponding years.',\n",
            "    answer_list=[Answer(country='Brazil', year=2002), Answer(country='Italy', year=2006), Answer(country='Spain', year=2010), Answer(country='Germany', year=2014), Answer(country='France', year=2018)]\n",
            ")\n",
            "[Answer(country='Brazil', year=2002), Answer(country='Italy', year=2006), Answer(country='Spain', year=2010), Answer(country='Germany', year=2014), Answer(country='France', year=2018)]\n"
          ]
        }
      ]
    }
  ]
}