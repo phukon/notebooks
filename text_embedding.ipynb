{
  "nbformat": 4,
  "nbformat_minor": 0,
  "metadata": {
    "colab": {
      "provenance": [],
      "gpuType": "T4",
      "authorship_tag": "ABX9TyOMPxb4PJKmGXEDbSRtr91y",
      "include_colab_link": true
    },
    "kernelspec": {
      "name": "python3",
      "display_name": "Python 3"
    },
    "language_info": {
      "name": "python"
    },
    "accelerator": "GPU"
  },
  "cells": [
    {
      "cell_type": "markdown",
      "metadata": {
        "id": "view-in-github",
        "colab_type": "text"
      },
      "source": [
        "<a href=\"https://colab.research.google.com/github/phukon/notebooks/blob/main/text_embedding.ipynb\" target=\"_parent\"><img src=\"https://colab.research.google.com/assets/colab-badge.svg\" alt=\"Open In Colab\"/></a>"
      ]
    },
    {
      "cell_type": "code",
      "source": [
        "!pip install openai pandas numpy"
      ],
      "metadata": {
        "id": "_Uol41AioRkL"
      },
      "execution_count": 29,
      "outputs": []
    },
    {
      "cell_type": "code",
      "execution_count": 30,
      "metadata": {
        "id": "6aai1E0efAfP"
      },
      "outputs": [],
      "source": [
        "from openai import OpenAI\n",
        "from secretKey import openai_sk\n",
        "import pandas as pd\n",
        "import numpy as np\n",
        "import matplotlib.pyplot as plt\n",
        "from sklearn.ensemble import RandomForestClassifier\n",
        "from sklearn.metrics import roc_auc_score"
      ]
    },
    {
      "cell_type": "code",
      "source": [
        "client = OpenAI(api_key = openai_sk)\n",
        "df_resume = pd.read_csv('data/train.csv')"
      ],
      "metadata": {
        "id": "mB9UaZ7loG2c"
      },
      "execution_count": 31,
      "outputs": []
    },
    {
      "cell_type": "markdown",
      "source": [
        "# Generate embeddings"
      ],
      "metadata": {
        "id": "In4wiUc5o8-T"
      }
    },
    {
      "cell_type": "code",
      "source": [
        "def generate_embeddings(text, openai_sk):\n",
        "  response = client.embeddings.create(\n",
        "      input=text,\n",
        "      model=\"text-embedding-3-large\"\n",
        "  )\n",
        "\n",
        "  return response.data"
      ],
      "metadata": {
        "id": "ksal9Bhwo8x6"
      },
      "execution_count": 32,
      "outputs": []
    },
    {
      "cell_type": "code",
      "source": [
        "text_embeddings = generate_embeddings(df_resume['resume'], openai_sk)\n",
        "\n",
        "# extract embeddings\n",
        "text_embeddings_list = [text_embeddings[i].embedding for i in range(len(text_embeddings))]"
      ],
      "metadata": {
        "id": "A-VWR2CNq10V"
      },
      "execution_count": 33,
      "outputs": []
    },
    {
      "cell_type": "markdown",
      "source": [
        "# Store embeddings in dataframe"
      ],
      "metadata": {
        "id": "rJ2rjJ7vrXi2"
      }
    },
    {
      "cell_type": "code",
      "source": [
        "# df column names\n",
        "column_names = [\"embeddings_\" + str(i) for i in range (len(text_embeddings_list[0]))]\n",
        "\n",
        "# store text embeddings in dataframe\n",
        "df_train = pd.DataFrame(text_embeddings_list, columns=column_names)\n",
        "\n",
        "# create target variable\n",
        "df_train['is_data_scientist'] = df_resume['role']=='Data Scientist'"
      ],
      "metadata": {
        "id": "B6NUKqGfra0S"
      },
      "execution_count": 34,
      "outputs": []
    },
    {
      "cell_type": "markdown",
      "source": [
        "## Model training"
      ],
      "metadata": {
        "id": "WfvABsDJsmzx"
      }
    },
    {
      "cell_type": "code",
      "source": [
        "# split variables by predictors and target\n",
        "X = df_train.iloc[:,:-1]\n",
        "Y = df_train.iloc[:,-1]\n",
        "\n",
        "# train rf model\n",
        "clf = RandomForestClassifier(max_depth=2, random_state=0).fit(X, Y)"
      ],
      "metadata": {
        "id": "UvDnZUybspqz"
      },
      "execution_count": 35,
      "outputs": []
    },
    {
      "cell_type": "markdown",
      "source": [
        "## Evaluation"
      ],
      "metadata": {
        "id": "HkdcCTe1tKw7"
      }
    },
    {
      "cell_type": "code",
      "source": [
        "\n",
        "print(clf.score(X, Y))\n",
        "\n",
        "# AUC value for training data\n",
        "print(roc_auc_score(Y, clf.predict_proba(X)[:, 1]))"
      ],
      "metadata": {
        "colab": {
          "base_uri": "https://localhost:8080/"
        },
        "id": "OSyFhZXztMjv",
        "outputId": "7d612457-1662-4042-86c7-3ebecfe37832"
      },
      "execution_count": 36,
      "outputs": [
        {
          "output_type": "stream",
          "name": "stdout",
          "text": [
            "1.0\n",
            "1.0\n"
          ]
        }
      ]
    },
    {
      "cell_type": "markdown",
      "source": [
        "# Load testing data"
      ],
      "metadata": {
        "id": "VL-5JEDhu9AK"
      }
    },
    {
      "cell_type": "code",
      "source": [
        "df_resume = pd.read_csv('data/test.csv')\n",
        "\n",
        "# gen embeds\n",
        "text_embeddings_list = generate_embeddings(df_resume['resume'], openai_sk)\n",
        "text_embeddings_list = [text_embeddings_list[i].embedding for i in range(len(text_embeddings_list))]\n",
        "\n",
        "\n",
        "# store embeds in dataframe\n",
        "df_test = pd.DataFrame(text_embeddings_list, columns=column_names)\n",
        "\n",
        "# target variable\n",
        "df_test['is_data_scientist'] = df_resume['role']=='Data Scientist'\n",
        "\n",
        "# predictors\n",
        "X_test = df_test.iloc[:,:-1]\n",
        "Y_test = df_test.iloc[:,-1]\n",
        "\n",
        "print(clf.score(X_test, Y_test))\n",
        "print(roc_auc_score(Y_test, clf.predict_proba(X_test)[:, 1]))"
      ],
      "metadata": {
        "colab": {
          "base_uri": "https://localhost:8080/"
        },
        "id": "ShoRhk43u-4A",
        "outputId": "3e0e24f9-3d90-4432-9727-aa65ce542f80"
      },
      "execution_count": 39,
      "outputs": [
        {
          "output_type": "stream",
          "name": "stdout",
          "text": [
            "0.98\n",
            "0.9983333333333333\n"
          ]
        }
      ]
    }
  ]
}